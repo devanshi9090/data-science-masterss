{
 "cells": [
  {
   "cell_type": "code",
   "execution_count": 1,
   "id": "85ff8535",
   "metadata": {},
   "outputs": [],
   "source": [
    "# DAY 2"
   ]
  },
  {
   "cell_type": "code",
   "execution_count": 2,
   "id": "ee3ffeb4",
   "metadata": {},
   "outputs": [
    {
     "data": {
      "text/plain": [
       "123"
      ]
     },
     "execution_count": 2,
     "metadata": {},
     "output_type": "execute_result"
    }
   ],
   "source": [
    "int('123')"
   ]
  },
  {
   "cell_type": "code",
   "execution_count": 5,
   "id": "22b7950c",
   "metadata": {},
   "outputs": [
    {
     "name": "stdout",
     "output_type": "stream",
     "text": [
      "my age is 90\n",
      "my age is 90\n"
     ]
    }
   ],
   "source": [
    "age = 90\n",
    "#1 :\n",
    "print(f'my age is {age}')\n",
    "#2:\n",
    "print('my age is',age)\n",
    "#3\n"
   ]
  },
  {
   "cell_type": "code",
   "execution_count": 10,
   "id": "88aee40e",
   "metadata": {},
   "outputs": [
    {
     "name": "stdout",
     "output_type": "stream",
     "text": [
      "my age is - 0\n"
     ]
    }
   ],
   "source": [
    "print('my age is - {}'.format(0))"
   ]
  },
  {
   "cell_type": "code",
   "execution_count": 7,
   "id": "d2f72d74",
   "metadata": {},
   "outputs": [],
   "source": [
    "name = 'Devanshi'\n",
    "age = 19\n"
   ]
  },
  {
   "cell_type": "code",
   "execution_count": 12,
   "id": "a614d3ab",
   "metadata": {},
   "outputs": [
    {
     "name": "stdout",
     "output_type": "stream",
     "text": [
      " my name is : Devanshi, and my age is : 19\n"
     ]
    }
   ],
   "source": [
    "print(' my name is : {0}, and my age is : {1}'.format(name,age))"
   ]
  },
  {
   "cell_type": "code",
   "execution_count": 13,
   "id": "3aa853a9",
   "metadata": {},
   "outputs": [],
   "source": [
    "# place holder\n",
    "name = 'Devanshi'\n",
    "age = 20\n",
    "country = 'Germany'"
   ]
  },
  {
   "cell_type": "code",
   "execution_count": 14,
   "id": "d5e072fc",
   "metadata": {},
   "outputs": [
    {
     "name": "stdout",
     "output_type": "stream",
     "text": [
      "my name is : Devanshi, i am 20 years old, and i am from Germany\n"
     ]
    }
   ],
   "source": [
    "print('my name is : {fn}, i am {age} years old, and i am from {mycont}'.format(fn=name,age=age,mycont=country))"
   ]
  },
  {
   "cell_type": "code",
   "execution_count": 15,
   "id": "5ceaf906",
   "metadata": {},
   "outputs": [
    {
     "name": "stdout",
     "output_type": "stream",
     "text": [
      "my name is Devanshi, my age is 20, my country is Germany\n"
     ]
    }
   ],
   "source": [
    "print('my name is {1}, my age is {0}, my country is {2}'.format(age,name,country))"
   ]
  },
  {
   "cell_type": "code",
   "execution_count": 16,
   "id": "def3d01d",
   "metadata": {},
   "outputs": [],
   "source": [
    "name = 'Devanshi Awasthi'\n",
    "age = 20\n",
    "degree = 'btech'\n"
   ]
  },
  {
   "cell_type": "code",
   "execution_count": 18,
   "id": "c0e6a48f",
   "metadata": {},
   "outputs": [
    {
     "name": "stdout",
     "output_type": "stream",
     "text": [
      "my age is 20, i have completed : my degree of btech, with the name  Devanshi Awasthi\n",
      "my age is 20, i have completed my degree of btech, with the name of Devanshi Awasthi\n",
      "my age is 20, i hav completed my degree of btech, with the name of Devanshi Awasthi\n"
     ]
    }
   ],
   "source": [
    "# f function\n",
    "print(f'my age is {age}, i have completed : my degree of {degree}, with the name  {name}')\n",
    "# .format function \n",
    "print('my age is {}, i have completed my degree of {}, with the name of {}'.format(age,degree,name))\n",
    "# .format function with indexing\n",
    "print('my age is {2}, i hav completed my degree of {1}, with the name of {0}'.format(name,degree,age))"
   ]
  },
  {
   "cell_type": "code",
   "execution_count": null,
   "id": "8aebb981",
   "metadata": {},
   "outputs": [],
   "source": [
    "# if statements"
   ]
  },
  {
   "cell_type": "code",
   "execution_count": 19,
   "id": "3251bdda",
   "metadata": {},
   "outputs": [
    {
     "name": "stdout",
     "output_type": "stream",
     "text": [
      "you are allowed to vote\n"
     ]
    }
   ],
   "source": [
    "age = 18\n",
    "if age >= 18:\n",
    "    print('you are allowed to vote')\n",
    "else:\n",
    "    print('do not vote')"
   ]
  },
  {
   "cell_type": "code",
   "execution_count": 21,
   "id": "180a2650",
   "metadata": {},
   "outputs": [
    {
     "name": "stdout",
     "output_type": "stream",
     "text": [
      "devanhsi\n"
     ]
    }
   ],
   "source": [
    "a = input()"
   ]
  },
  {
   "cell_type": "code",
   "execution_count": 22,
   "id": "141e606f",
   "metadata": {},
   "outputs": [
    {
     "data": {
      "text/plain": [
       "'devanhsi'"
      ]
     },
     "execution_count": 22,
     "metadata": {},
     "output_type": "execute_result"
    }
   ],
   "source": [
    "a"
   ]
  },
  {
   "cell_type": "code",
   "execution_count": null,
   "id": "ca9171da",
   "metadata": {},
   "outputs": [],
   "source": [
    "name = input('enter the name : ')\n"
   ]
  },
  {
   "cell_type": "code",
   "execution_count": null,
   "id": "7a675fc3",
   "metadata": {},
   "outputs": [],
   "source": [
    "name"
   ]
  },
  {
   "cell_type": "code",
   "execution_count": null,
   "id": "98828e3c",
   "metadata": {},
   "outputs": [],
   "source": [
    "age - 19"
   ]
  },
  {
   "cell_type": "code",
   "execution_count": null,
   "id": "069f49e6",
   "metadata": {},
   "outputs": [],
   "source": []
  }
 ],
 "metadata": {
  "kernelspec": {
   "display_name": "Python 3 (ipykernel)",
   "language": "python",
   "name": "python3"
  },
  "language_info": {
   "codemirror_mode": {
    "name": "ipython",
    "version": 3
   },
   "file_extension": ".py",
   "mimetype": "text/x-python",
   "name": "python",
   "nbconvert_exporter": "python",
   "pygments_lexer": "ipython3",
   "version": "3.9.12"
  }
 },
 "nbformat": 4,
 "nbformat_minor": 5
}

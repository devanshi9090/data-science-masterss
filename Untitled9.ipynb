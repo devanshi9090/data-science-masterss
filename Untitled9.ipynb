{
 "cells": [
  {
   "cell_type": "code",
   "execution_count": 1,
   "id": "bd781214",
   "metadata": {},
   "outputs": [
    {
     "name": "stdout",
     "output_type": "stream",
     "text": [
      "12\n"
     ]
    }
   ],
   "source": [
    "age = input()"
   ]
  },
  {
   "cell_type": "code",
   "execution_count": 2,
   "id": "d73a3a74",
   "metadata": {},
   "outputs": [
    {
     "data": {
      "text/plain": [
       "str"
      ]
     },
     "execution_count": 2,
     "metadata": {},
     "output_type": "execute_result"
    }
   ],
   "source": [
    "type(age)"
   ]
  },
  {
   "cell_type": "code",
   "execution_count": 3,
   "id": "d8db7a8f",
   "metadata": {},
   "outputs": [
    {
     "name": "stdout",
     "output_type": "stream",
     "text": [
      "Enter the age of the user :20\n"
     ]
    }
   ],
   "source": []
  },
  {
   "cell_type": "code",
   "execution_count": 9,
   "id": "43bff2d7",
   "metadata": {},
   "outputs": [
    {
     "name": "stdout",
     "output_type": "stream",
     "text": [
      "Enter the age of the user :8\n"
     ]
    }
   ],
   "source": [
    "age = int(input('Enter the age of the user :'))\n",
    "if age>= 18 and age<=32:\n",
    "    print('you are a young blood')\n",
    "    "
   ]
  },
  {
   "cell_type": "code",
   "execution_count": null,
   "id": "fda84663",
   "metadata": {},
   "outputs": [],
   "source": [
    "# if - else statement"
   ]
  },
  {
   "cell_type": "code",
   "execution_count": 10,
   "id": "5c051883",
   "metadata": {},
   "outputs": [
    {
     "data": {
      "text/plain": [
       "'\\nin a mall- \\ninput the product price\\nproduct > 1000 rs : u have 20% off\\nproduct <= 1000 rs : u hav 30% off\\nprint the product price for both the conditions\\n\\n'"
      ]
     },
     "execution_count": 10,
     "metadata": {},
     "output_type": "execute_result"
    }
   ],
   "source": [
    "'''\n",
    "in a mall- \n",
    "input the product price\n",
    "product > 1000 rs : u have 20% off\n",
    "product <= 1000 rs : u hav 30% off\n",
    "print the product price for both the conditions\n",
    "\n",
    "'''"
   ]
  },
  {
   "cell_type": "code",
   "execution_count": 11,
   "id": "04a3cc80",
   "metadata": {},
   "outputs": [
    {
     "name": "stdout",
     "output_type": "stream",
     "text": [
      " enter the price of the product : 2000\n",
      "the final price is : 1600.0\n"
     ]
    }
   ],
   "source": [
    "pp = int(input(' enter the price of the product : '))\n",
    "if pp > 1000:\n",
    "    print('the final price is :',pp*0.8)\n",
    "if pp <= 1000:\n",
    "    print('the final price is :',pp*0.7)"
   ]
  },
  {
   "cell_type": "code",
   "execution_count": 17,
   "id": "f7c9eb2d",
   "metadata": {},
   "outputs": [
    {
     "name": "stdout",
     "output_type": "stream",
     "text": [
      "enter the price of the product : 7000\n",
      "the price is : 5600.0\n"
     ]
    }
   ],
   "source": [
    "product_price = int(input('enter the price of the product : '))\n",
    "if product_price > 3000:\n",
    "    print('the price is :',product_price*0.8)\n",
    "elif product_price >= 2000 and product_price <= 3000:\n",
    "    print('the price is :',product_price*0.7)\n",
    "elif product_price<= 1000 and product_price<= 2000:\n",
    "    print('the price is :',product_price*0.6)"
   ]
  },
  {
   "cell_type": "code",
   "execution_count": null,
   "id": "391f5610",
   "metadata": {},
   "outputs": [],
   "source": []
  }
 ],
 "metadata": {
  "kernelspec": {
   "display_name": "Python 3 (ipykernel)",
   "language": "python",
   "name": "python3"
  },
  "language_info": {
   "codemirror_mode": {
    "name": "ipython",
    "version": 3
   },
   "file_extension": ".py",
   "mimetype": "text/x-python",
   "name": "python",
   "nbconvert_exporter": "python",
   "pygments_lexer": "ipython3",
   "version": "3.9.12"
  }
 },
 "nbformat": 4,
 "nbformat_minor": 5
}
